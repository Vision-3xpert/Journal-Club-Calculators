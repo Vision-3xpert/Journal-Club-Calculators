{
 "cells": [
  {
   "cell_type": "code",
   "execution_count": 1,
   "metadata": {},
   "outputs": [
    {
     "name": "stdout",
     "output_type": "stream",
     "text": [
      "Upper boundary of the NNT 9\n"
     ]
    }
   ],
   "source": [
    "# import numpy as np\n",
    "\n",
    "# input the following percentages\n",
    "\n",
    "ARD =.1 # absolute risk difference\n",
    "\n",
    "UL = .15 # Upper limit of the absolute risk difference 95% CI\n",
    "\n",
    "LL = .05 # Lower limit of the absolute risk difference 95% CI\n",
    "\n",
    "if LL < 0:\n",
    "\n",
    "    print (\"voir texte dans doc word\")\n",
    "\n",
    "    point_estimate = round(100/ARD)\n",
    "\n",
    "    #point_estimate = point_estimate(round,1)\n",
    "\n",
    "    print (\"Point estimate of the NNT = \", point_estimate)\n",
    "\n",
    "    LL_NNT = round(100/UL)\n",
    "\n",
    "    print(\"Lower boundary of the NNT 95% conficence interval = \",LL_NNT)\n",
    "\n",
    "    UL_NNT = round(100/LL)\n",
    "\n",
    "print(\"Upper boundary of the NNT 9\")"
   ]
  },
  {
   "cell_type": "code",
   "execution_count": 2,
   "metadata": {},
   "outputs": [
    {
     "name": "stdout",
     "output_type": "stream",
     "text": [
      "The treatment is statistically significant.\n",
      "Point estimate of the NNT = 1000\n",
      "Lower boundary of the NNT 95% confidence interval = 667\n",
      "Upper boundary of the NNT 95% confidence interval = 2000\n",
      "\n",
      "---\n",
      "\n",
      "The treatment is statistically significant.\n",
      "Point estimate of the NNT = 1000\n",
      "Lower boundary of the NNT 95% confidence interval = 667\n",
      "Upper boundary of the NNT 95% confidence interval = 1000\n",
      "\n",
      "---\n",
      "\n",
      "Voir texte dans doc word\n",
      "Point estimate of the NNT = -1000\n",
      "Lower boundary of the NNT 95% confidence interval = 667\n",
      "Upper boundary of the NNT 95% confidence interval = -2000\n"
     ]
    }
   ],
   "source": [
    "def calculate_NNT(ARD, UL, LL):\n",
    "    if LL < 0:\n",
    "        print(\"Voir texte dans doc word\")\n",
    "        point_estimate = round(100 / ARD)\n",
    "        print(f\"Point estimate of the NNT = {point_estimate}\")\n",
    "        \n",
    "        LL_NNT = round(100 / UL)\n",
    "        print(f\"Lower boundary of the NNT 95% confidence interval = {LL_NNT}\")\n",
    "        \n",
    "        UL_NNT = round(100 / LL)\n",
    "        print(f\"Upper boundary of the NNT 95% confidence interval = {UL_NNT}\")\n",
    "    elif ARD <= 0:\n",
    "        print(\"The treatment is not effective or potentially harmful. NNT cannot be calculated.\")\n",
    "    else:\n",
    "        print(\"The treatment is statistically significant.\")\n",
    "        point_estimate = round(100 / ARD)\n",
    "        print(f\"Point estimate of the NNT = {point_estimate}\")\n",
    "        \n",
    "        LL_NNT = round(100 / UL)\n",
    "        print(f\"Lower boundary of the NNT 95% confidence interval = {LL_NNT}\")\n",
    "        \n",
    "        UL_NNT = round(100 / LL)\n",
    "        print(f\"Upper boundary of the NNT 95% confidence interval = {UL_NNT}\")\n",
    "\n",
    "# Test with some sample values\n",
    "calculate_NNT(0.1, 0.15, 0.05)  # Original values\n",
    "print(\"\\n---\\n\")\n",
    "calculate_NNT(0.1, 0.15, 0.1)  # LL >= 0\n",
    "print(\"\\n---\\n\")\n",
    "calculate_NNT(-0.1, 0.15, -0.05)  # ARD <= 0\n"
   ]
  },
  {
   "cell_type": "code",
   "execution_count": null,
   "metadata": {},
   "outputs": [],
   "source": []
  }
 ],
 "metadata": {
  "kernelspec": {
   "display_name": "Python 3",
   "language": "python",
   "name": "python3"
  },
  "language_info": {
   "codemirror_mode": {
    "name": "ipython",
    "version": 3
   },
   "file_extension": ".py",
   "mimetype": "text/x-python",
   "name": "python",
   "nbconvert_exporter": "python",
   "pygments_lexer": "ipython3",
   "version": "3.8.8"
  },
  "orig_nbformat": 4
 },
 "nbformat": 4,
 "nbformat_minor": 2
}
